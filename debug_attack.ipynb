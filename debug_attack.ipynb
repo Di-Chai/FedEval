{
 "cells": [
  {
   "cell_type": "code",
   "execution_count": null,
   "id": "5b23c085-3855-458b-aa2f-5756e6cf7986",
   "metadata": {},
   "outputs": [],
   "source": [
    "import numpy as np\n",
    "\n",
    "from FedEval.strategy.FedSVD import generate_orthogonal_matrix\n",
    "from FedEval.dataset import *\n",
    "from FedEval.config import ConfigurationManager\n",
    "from FedEval.run_util import _load_config\n",
    "from sklearn.decomposition import FastICA\n",
    "\n",
    "import math\n",
    "import random\n",
    "import matplotlib.pyplot as plt\n",
    "from numpy import *\n",
    "from scipy.stats import pearsonr"
   ]
  },
  {
   "cell_type": "code",
   "execution_count": null,
   "id": "c5f3f8c4-81f5-4d32-880f-34667ecb6444",
   "metadata": {},
   "outputs": [],
   "source": [
    "import matplotlib.pyplot as plt"
   ]
  },
  {
   "cell_type": "code",
   "execution_count": null,
   "id": "0e07599a-a824-4c80-ab37-26011c385c5d",
   "metadata": {},
   "outputs": [],
   "source": [
    "p = generate_orthogonal_matrix(10000, block_reduce=10000)"
   ]
  },
  {
   "cell_type": "code",
   "execution_count": null,
   "id": "05a0ff34-807d-4b41-b4a9-73723fa92f9b",
   "metadata": {},
   "outputs": [],
   "source": [
    "plt.hist(p[0][0], bins=100)\n",
    "plt.show()"
   ]
  },
  {
   "cell_type": "code",
   "execution_count": null,
   "id": "37b8beca-6ab8-42fe-a2cc-5b8148661259",
   "metadata": {},
   "outputs": [],
   "source": [
    "c1, c2, c3 = _load_config('configs/debug')\n",
    "\n",
    "config = ConfigurationManager(c1, c2, c3)\n",
    "\n",
    "data = wine()"
   ]
  },
  {
   "cell_type": "code",
   "execution_count": null,
   "id": "90cb72fb-80b0-4108-906f-3d62112bb85c",
   "metadata": {},
   "outputs": [],
   "source": [
    "def mnist_show(x):\n",
    "    plt.imshow(x.reshape([28, 28]), cmap='gray')\n",
    "    plt.show()"
   ]
  },
  {
   "cell_type": "code",
   "execution_count": null,
   "id": "284b0910-e50d-4c16-9599-a52e4c11e6a9",
   "metadata": {},
   "outputs": [],
   "source": [
    "x = data.x.T\n",
    "\n",
    "m, n = x.shape\n",
    "\n",
    "p = generate_orthogonal_matrix(m, block_reduce=1000)\n",
    "\n",
    "# Apply mask\n",
    "pxq = np.zeros([m, n])\n",
    "index = 0\n",
    "for i in range(len(p)):\n",
    "    pxq[index:index+len(p[i])] = p[i] @ x[index:index+len(p[i])]\n",
    "    index += len(p[i])\n",
    "\n",
    "pxq = pxq.T\n",
    "x = x.T\n",
    "\n",
    "r_fast_ica = FastICA(whiten=False)\n",
    "dec_x = r_fast_ica.fit_transform(x)"
   ]
  },
  {
   "cell_type": "code",
   "execution_count": null,
   "id": "b194c5fc-72a4-4833-adae-5cfd87abda00",
   "metadata": {},
   "outputs": [],
   "source": [
    "p"
   ]
  },
  {
   "cell_type": "code",
   "execution_count": null,
   "id": "9bdeda45-39b7-4a9f-922a-a39dce914bf3",
   "metadata": {},
   "outputs": [],
   "source": [
    "pxq"
   ]
  },
  {
   "cell_type": "code",
   "execution_count": null,
   "id": "67a32cad-c772-49ae-a782-17a1189e5336",
   "metadata": {},
   "outputs": [],
   "source": [
    "x"
   ]
  },
  {
   "cell_type": "code",
   "execution_count": null,
   "id": "cd10284c-9cae-47dc-b52f-f31d20229c7e",
   "metadata": {},
   "outputs": [],
   "source": [
    "dec_x"
   ]
  },
  {
   "cell_type": "code",
   "execution_count": null,
   "id": "b14c7c65-6f78-4d01-aa20-fa28f1b9532e",
   "metadata": {},
   "outputs": [],
   "source": [
    "index = 10\n",
    "plt.plot((x[:, index] - x[:, index].min()) / (x[:, index].max() - x[:, index].min()))\n",
    "plt.plot((dec_x[:, index] - dec_x[:, index].min()) / (dec_x[:, index].max() - dec_x[:, index].min()))\n",
    "plt.show()"
   ]
  },
  {
   "cell_type": "code",
   "execution_count": null,
   "id": "223b950e-2428-4793-a01e-5162cc9d0074",
   "metadata": {},
   "outputs": [],
   "source": [
    "results = []\n",
    "for i in range(x.shape[1]):\n",
    "    tmp_result = []\n",
    "    for j in range(dec_x.shape[1]):\n",
    "        tmp_result.append([i, j, pearsonr(x[:, i], dec_x[:, j])[0]])\n",
    "    results.append(max(tmp_result, key=lambda x: x[-1]))"
   ]
  },
  {
   "cell_type": "code",
   "execution_count": null,
   "id": "376e249f-030c-42dc-94ad-69f6338fa8d2",
   "metadata": {},
   "outputs": [],
   "source": [
    "results"
   ]
  },
  {
   "cell_type": "code",
   "execution_count": null,
   "id": "856c86d9-570a-427a-994c-5a746d9640f5",
   "metadata": {},
   "outputs": [],
   "source": [
    "index_x = 10\n",
    "index_dex = 7\n",
    "plt.plot((x[:, index_x] - x[:, index_x].min()) / (x[:, index_x].max() - x[:, index_x].min()))\n",
    "plt.plot((dec_x[:, index_dex] - dec_x[:, index_dex].min()) / (dec_x[:, index_dex].max() - dec_x[:, index_dex].min()))\n",
    "plt.show()\n",
    "plt.plot(((x[:, index_x] - x[:, index_x].mean()) / np.std(x[:, index_x]))[:100])\n",
    "plt.plot(((dec_x[:, index_dex] - dec_x[:, index_dex].mean()) / np.std(dec_x[:, index_dex]))[:100])\n",
    "plt.show()"
   ]
  },
  {
   "cell_type": "code",
   "execution_count": null,
   "id": "aa305246-33ea-4e3d-af29-7dc476f94aaf",
   "metadata": {},
   "outputs": [],
   "source": [
    "mnist_show(dec_x[:, 2])"
   ]
  },
  {
   "cell_type": "code",
   "execution_count": null,
   "id": "7a85f367-5d26-4c49-bc53-af775a4e2f85",
   "metadata": {},
   "outputs": [],
   "source": [
    "mnist_show(x[9])"
   ]
  },
  {
   "cell_type": "code",
   "execution_count": null,
   "id": "fb929e4b-448f-497e-991f-0087260dc029",
   "metadata": {},
   "outputs": [],
   "source": [
    "plt.hist(dec_x[100], bins=200)\n",
    "plt.show()"
   ]
  },
  {
   "cell_type": "code",
   "execution_count": null,
   "id": "96c6c725-2dc7-45bc-a2fc-ec9bf302c3c4",
   "metadata": {},
   "outputs": [],
   "source": []
  }
 ],
 "metadata": {
  "kernelspec": {
   "display_name": "Python 3",
   "language": "python",
   "name": "python3"
  },
  "language_info": {
   "codemirror_mode": {
    "name": "ipython",
    "version": 3
   },
   "file_extension": ".py",
   "mimetype": "text/x-python",
   "name": "python",
   "nbconvert_exporter": "python",
   "pygments_lexer": "ipython3",
   "version": "3.8.10"
  }
 },
 "nbformat": 4,
 "nbformat_minor": 5
}
